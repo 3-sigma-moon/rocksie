{
 "cells": [
  {
   "cell_type": "code",
   "execution_count": 27,
   "metadata": {},
   "outputs": [],
   "source": [
    "import math\n",
    "import torch\n",
    "from torch import nn\n",
    "from torchvision import models\n",
    "import matplotlib.pyplot as plt\n",
    "import torch.nn.functional as F\n",
    "from torchvision import datasets, transforms\n",
    "from torch.utils.data import DataLoader, random_split"
   ]
  },
  {
   "cell_type": "markdown",
   "metadata": {},
   "source": [
    "# Transforms, DataLoader, DataSet"
   ]
  },
  {
   "cell_type": "code",
   "execution_count": 2,
   "metadata": {},
   "outputs": [],
   "source": [
    "transform = transforms.Compose([\n",
    "    transforms.Resize(256),\n",
    "    transforms.CenterCrop(224),\n",
    "    transforms.ToTensor(),\n",
    "    transforms.Normalize(mean=[0.485, 0.456, 0.406], \n",
    "                          std=[0.229, 0.224, 0.225])\n",
    "])\n",
    "\n",
    "target_transform = transforms.Compose([\n",
    "    transforms.Lambda(lambda y: torch.zeros(4, dtype=torch.float) \\\n",
    "      .scatter_(0, torch.tensor(y), value=1))\n",
    "])"
   ]
  },
  {
   "cell_type": "code",
   "execution_count": 3,
   "metadata": {},
   "outputs": [],
   "source": [
    "data_dir = '../data/images'\n",
    "raw_data = datasets.ImageFolder(data_dir, \n",
    "                                transform=transform, \n",
    "                                target_transform=target_transform)\n",
    "classes = raw_data.classes"
   ]
  },
  {
   "cell_type": "code",
   "execution_count": 4,
   "metadata": {},
   "outputs": [],
   "source": [
    "sz = len(raw_data)\n",
    "train_sz = math.floor(.8 * sz)\n",
    "val_sz = sz - train_sz"
   ]
  },
  {
   "cell_type": "code",
   "execution_count": 5,
   "metadata": {},
   "outputs": [],
   "source": [
    "train_dataset, val_dataset = random_split(raw_data, [train_sz, val_sz])"
   ]
  },
  {
   "cell_type": "markdown",
   "metadata": {},
   "source": [
    "# Model Arch"
   ]
  },
  {
   "cell_type": "code",
   "execution_count": 6,
   "metadata": {},
   "outputs": [
    {
     "name": "stdout",
     "output_type": "stream",
     "text": [
      "Using cuda device\n"
     ]
    }
   ],
   "source": [
    "# Get cpu or gpu device for training.\n",
    "device = \"cuda\" if torch.cuda.is_available() else \"cpu\"\n",
    "print(\"Using {} device\".format(device))"
   ]
  },
  {
   "cell_type": "code",
   "execution_count": 28,
   "metadata": {},
   "outputs": [
    {
     "name": "stdout",
     "output_type": "stream",
     "text": [
      "VisionModel(\n",
      "  (xfer): VGG(\n",
      "    (features): Sequential(\n",
      "      (0): Conv2d(3, 64, kernel_size=(3, 3), stride=(1, 1), padding=(1, 1))\n",
      "      (1): ReLU(inplace=True)\n",
      "      (2): MaxPool2d(kernel_size=2, stride=2, padding=0, dilation=1, ceil_mode=False)\n",
      "      (3): Conv2d(64, 128, kernel_size=(3, 3), stride=(1, 1), padding=(1, 1))\n",
      "      (4): ReLU(inplace=True)\n",
      "      (5): MaxPool2d(kernel_size=2, stride=2, padding=0, dilation=1, ceil_mode=False)\n",
      "      (6): Conv2d(128, 256, kernel_size=(3, 3), stride=(1, 1), padding=(1, 1))\n",
      "      (7): ReLU(inplace=True)\n",
      "      (8): Conv2d(256, 256, kernel_size=(3, 3), stride=(1, 1), padding=(1, 1))\n",
      "      (9): ReLU(inplace=True)\n",
      "      (10): MaxPool2d(kernel_size=2, stride=2, padding=0, dilation=1, ceil_mode=False)\n",
      "      (11): Conv2d(256, 512, kernel_size=(3, 3), stride=(1, 1), padding=(1, 1))\n",
      "      (12): ReLU(inplace=True)\n",
      "      (13): Conv2d(512, 512, kernel_size=(3, 3), stride=(1, 1), padding=(1, 1))\n",
      "      (14): ReLU(inplace=True)\n",
      "      (15): MaxPool2d(kernel_size=2, stride=2, padding=0, dilation=1, ceil_mode=False)\n",
      "      (16): Conv2d(512, 512, kernel_size=(3, 3), stride=(1, 1), padding=(1, 1))\n",
      "      (17): ReLU(inplace=True)\n",
      "      (18): Conv2d(512, 512, kernel_size=(3, 3), stride=(1, 1), padding=(1, 1))\n",
      "      (19): ReLU(inplace=True)\n",
      "      (20): MaxPool2d(kernel_size=2, stride=2, padding=0, dilation=1, ceil_mode=False)\n",
      "    )\n",
      "    (avgpool): AdaptiveAvgPool2d(output_size=(7, 7))\n",
      "    (classifier): Sequential(\n",
      "      (0): Linear(in_features=25088, out_features=4096, bias=True)\n",
      "      (1): ReLU(inplace=True)\n",
      "      (2): Dropout(p=0.5, inplace=False)\n",
      "      (3): Linear(in_features=4096, out_features=4096, bias=True)\n",
      "      (4): ReLU(inplace=True)\n",
      "      (5): Dropout(p=0.5, inplace=False)\n",
      "      (6): Linear(in_features=4096, out_features=1000, bias=True)\n",
      "    )\n",
      "  )\n",
      "  (fc1): Linear(in_features=1000, out_features=4, bias=True)\n",
      ")\n"
     ]
    }
   ],
   "source": [
    "classes = 4\n",
    "\n",
    "# Define model\n",
    "class VisionModel(nn.Module):\n",
    "    def __init__(self):\n",
    "        super(VisionModel, self).__init__()\n",
    "        \n",
    "        self.xfer = models.vgg11(pretrained=True)\n",
    "        self.fc1 = nn.Linear(1000, classes)\n",
    "\n",
    "    def forward(self, x):\n",
    "        x = F.relu(self.xfer(x))\n",
    "        return F.softmax(self.fc1(x), dim=1)\n",
    "        \n",
    "model = VisionModel().to(device)\n",
    "print(model)"
   ]
  },
  {
   "cell_type": "markdown",
   "metadata": {},
   "source": [
    "# Training"
   ]
  },
  {
   "cell_type": "code",
   "execution_count": 53,
   "metadata": {},
   "outputs": [],
   "source": [
    "def train(dataloader, model, loss_fn, optimizer):\n",
    "    size = len(dataloader.dataset)\n",
    "    model.train()\n",
    "    current = 0\n",
    "    for batch, (X, y) in enumerate(dataloader):\n",
    "        X, y = X.to(device), y.to(device)\n",
    "\n",
    "        # Compute prediction error\n",
    "        pred = model(X)\n",
    "        loss = loss_fn(pred, y)\n",
    "\n",
    "        # Backpropagation\n",
    "        optimizer.zero_grad()\n",
    "        loss.backward()\n",
    "        optimizer.step()\n",
    "\n",
    "        current += len(X)\n",
    "        print(f\"loss: {loss.item():>7f}  [{current:>5d}/{size:>5d}], {batch}\")"
   ]
  },
  {
   "cell_type": "code",
   "execution_count": 54,
   "metadata": {},
   "outputs": [],
   "source": [
    "def test(dataloader, model, loss_fn):\n",
    "    size = len(dataloader.dataset)\n",
    "    num_batches = len(dataloader)\n",
    "    model.eval()\n",
    "    test_loss, correct = 0, 0\n",
    "    with torch.no_grad():\n",
    "        for X, y in dataloader:\n",
    "            X, y = X.to(device), y.to(device)\n",
    "            pred = model(X)\n",
    "            test_loss += loss_fn(pred, y).item()\n",
    "            correct += (pred.argmax(1) == y.argmax(1)).type(torch.float).sum().item()\n",
    "\n",
    "    test_loss /= num_batches\n",
    "    correct /= size\n",
    "    print(f\"Test Error: \\n Accuracy: {(100*correct):>0.1f}%, Avg loss: {test_loss:>8f} \\n\")"
   ]
  },
  {
   "cell_type": "code",
   "execution_count": 55,
   "metadata": {},
   "outputs": [
    {
     "name": "stdout",
     "output_type": "stream",
     "text": [
      "Epoch 1\n",
      "-------------------------------\n",
      "loss: 0.000201  [   32/  291], 0\n",
      "loss: 0.000463  [   64/  291], 1\n",
      "loss: 0.000254  [   96/  291], 2\n",
      "loss: 0.001493  [  128/  291], 3\n",
      "loss: 0.000140  [  160/  291], 4\n",
      "loss: 0.000315  [  192/  291], 5\n",
      "loss: 0.000214  [  224/  291], 6\n",
      "loss: 0.000114  [  256/  291], 7\n",
      "loss: 0.000179  [  288/  291], 8\n",
      "loss: 0.000002  [  291/  291], 9\n",
      "Test Error: \n",
      " Accuracy: 100.0%, Avg loss: 0.000472 \n",
      "\n",
      "Epoch 2\n",
      "-------------------------------\n",
      "loss: 0.000136  [   32/  291], 0\n",
      "loss: 0.000475  [   64/  291], 1\n",
      "loss: 0.000188  [   96/  291], 2\n",
      "loss: 0.001364  [  128/  291], 3\n",
      "loss: 0.000457  [  160/  291], 4\n",
      "loss: 0.000262  [  192/  291], 5\n",
      "loss: 0.000134  [  224/  291], 6\n",
      "loss: 0.000785  [  256/  291], 7\n",
      "loss: 0.000163  [  288/  291], 8\n",
      "loss: 0.000043  [  291/  291], 9\n",
      "Test Error: \n",
      " Accuracy: 100.0%, Avg loss: 0.000465 \n",
      "\n",
      "Epoch 3\n",
      "-------------------------------\n",
      "loss: 0.000179  [   32/  291], 0\n",
      "loss: 0.000341  [   64/  291], 1\n",
      "loss: 0.001495  [   96/  291], 2\n",
      "loss: 0.001027  [  128/  291], 3\n",
      "loss: 0.000799  [  160/  291], 4\n",
      "loss: 0.000250  [  192/  291], 5\n",
      "loss: 0.000244  [  224/  291], 6\n",
      "loss: 0.000498  [  256/  291], 7\n",
      "loss: 0.000883  [  288/  291], 8\n",
      "loss: 0.000009  [  291/  291], 9\n",
      "Test Error: \n",
      " Accuracy: 100.0%, Avg loss: 0.000529 \n",
      "\n",
      "Epoch 4\n",
      "-------------------------------\n",
      "loss: 0.000150  [   32/  291], 0\n",
      "loss: 0.000659  [   64/  291], 1\n",
      "loss: 0.000240  [   96/  291], 2\n",
      "loss: 0.002441  [  128/  291], 3\n",
      "loss: 0.000406  [  160/  291], 4\n",
      "loss: 0.000145  [  192/  291], 5\n",
      "loss: 0.000115  [  224/  291], 6\n",
      "loss: 0.000407  [  256/  291], 7\n",
      "loss: 0.000518  [  288/  291], 8\n",
      "loss: 0.000004  [  291/  291], 9\n",
      "Test Error: \n",
      " Accuracy: 100.0%, Avg loss: 0.000482 \n",
      "\n",
      "Epoch 5\n",
      "-------------------------------\n",
      "loss: 0.000049  [   32/  291], 0\n",
      "loss: 0.000431  [   64/  291], 1\n",
      "loss: 0.000302  [   96/  291], 2\n",
      "loss: 0.002145  [  128/  291], 3\n",
      "loss: 0.000123  [  160/  291], 4\n",
      "loss: 0.000166  [  192/  291], 5\n",
      "loss: 0.000313  [  224/  291], 6\n",
      "loss: 0.000193  [  256/  291], 7\n",
      "loss: 0.000371  [  288/  291], 8\n",
      "loss: 0.000003  [  291/  291], 9\n",
      "Test Error: \n",
      " Accuracy: 100.0%, Avg loss: 0.000463 \n",
      "\n",
      "Done!\n"
     ]
    }
   ],
   "source": [
    "epochs = 5\n",
    "batch_size = 32\n",
    "loss_fn = nn.BCELoss()\n",
    "optimizer = torch.optim.SGD(model.parameters(), lr=.01)\n",
    "\n",
    "train_dataloader = DataLoader(train_dataset, batch_size=batch_size)\n",
    "test_dataloader = DataLoader(val_dataset, batch_size=batch_size)\n",
    "for t in range(epochs):\n",
    "    print(f\"Epoch {t+1}\\n-------------------------------\")\n",
    "    train(train_dataloader, model, loss_fn, optimizer)\n",
    "    test(test_dataloader, model, loss_fn)\n",
    "\n",
    "print(\"Done!\")"
   ]
  },
  {
   "cell_type": "code",
   "execution_count": null,
   "metadata": {},
   "outputs": [],
   "source": []
  },
  {
   "cell_type": "code",
   "execution_count": null,
   "metadata": {},
   "outputs": [],
   "source": []
  }
 ],
 "metadata": {
  "interpreter": {
   "hash": "d412cf0cc95275da7f3e5a2cde727869a6beaae6991f4cbb39a087a6b0868edc"
  },
  "kernelspec": {
   "display_name": "Python 3.8.8 64-bit ('torch': conda)",
   "name": "python3"
  },
  "language_info": {
   "codemirror_mode": {
    "name": "ipython",
    "version": 3
   },
   "file_extension": ".py",
   "mimetype": "text/x-python",
   "name": "python",
   "nbconvert_exporter": "python",
   "pygments_lexer": "ipython3",
   "version": "3.8.8"
  },
  "orig_nbformat": 4
 },
 "nbformat": 4,
 "nbformat_minor": 2
}
